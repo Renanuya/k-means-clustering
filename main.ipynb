{
 "cells": [
  {
   "cell_type": "code",
   "execution_count": null,
   "id": "7a1c6e4d",
   "metadata": {},
   "outputs": [],
   "source": [
    "from rich.console import Console\n",
    "from rich.table import Table"
   ]
  },
  {
   "cell_type": "code",
   "execution_count": null,
   "id": "dee040f0",
   "metadata": {},
   "outputs": [],
   "source": [
    "age_array = [15, 15, 16, 19, 19, 20, 20, 21, 22, 28, 35, 40, 41, 42, 43, 44, 60, 61, 65]\n",
    "c1 = 16\n",
    "c2 = 22"
   ]
  },
  {
   "cell_type": "code",
   "execution_count": null,
   "id": "1e676ced",
   "metadata": {},
   "outputs": [],
   "source": [
    "def get_closest_center(age, cluster_1, cluster_2):\n",
    "    c1_distance = abs(age - cluster_1)\n",
    "    c2_distance = abs(age - cluster_2)\n",
    "    if c2_distance > c1_distance:\n",
    "        return cluster_1\n",
    "    elif c1_distance >= c2_distance:\n",
    "        return cluster_2"
   ]
  },
  {
   "cell_type": "code",
   "execution_count": null,
   "id": "69ca5142",
   "metadata": {},
   "outputs": [],
   "source": [
    "def find_cluster(cluster1, cluster2):\n",
    "    c1_sum = 0\n",
    "    c2_sum = 0\n",
    "    c1_elements = 0\n",
    "    c2_elements = 0\n",
    "\n",
    "    for age in age_array:\n",
    "        nearest_cluster = get_closest_center(age, cluster1, cluster2)\n",
    "        if nearest_cluster == cluster2:\n",
    "            c2_elements += 1\n",
    "            c2_sum += age\n",
    "        elif nearest_cluster == cluster1:\n",
    "            c1_elements += 1\n",
    "            c1_sum += age\n",
    "    return c1_sum / c1_elements, c2_sum / c2_elements"
   ]
  },
  {
   "cell_type": "code",
   "execution_count": null,
   "id": "bef547dc",
   "metadata": {},
   "outputs": [],
   "source": [
    "last_c1 = c1\n",
    "last_c2 = c2"
   ]
  },
  {
   "cell_type": "code",
   "execution_count": null,
   "id": "f48b04ae",
   "metadata": {},
   "outputs": [],
   "source": [
    "for i in range(1, 5):\n",
    "    c1, c2 = find_cluster(last_c1, last_c2)\n",
    "\n",
    "    table = Table(title=f\"C1 = {c1:.2f} / C2 = {c2:.2f}\")\n",
    "    table.add_column(\"Xi\", justify=\"center\", style=\"medium_spring_green\", no_wrap=False)\n",
    "    table.add_column(\"C1\", justify=\"center\", style=\"medium_spring_green\", no_wrap=False)\n",
    "    table.add_column(\"C2\", justify=\"center\", style=\"medium_spring_green\", no_wrap=False)\n",
    "    table.add_column(\"Distance 1\", justify=\"center\", style=\"medium_spring_green\", no_wrap=False)\n",
    "    table.add_column(\"Distance 2\", justify=\"center\", style=\"medium_spring_green\", no_wrap=False)\n",
    "    table.add_column(\"Nearest Cluster\", justify=\"center\", style=\"medium_spring_green\", no_wrap=False)\n",
    "    table.add_column(\"New Centroid\", justify=\"center\", style=\"medium_spring_green\", no_wrap=False)\n",
    "\n",
    "    for age in age_array:\n",
    "        c1_distance = abs(age - last_c1)\n",
    "        c2_distance = abs(age - last_c2)\n",
    "        cluster = \"1\" if get_closest_center(age, last_c1, last_c2) == last_c1 else \"2\"\n",
    "        new_cluster = c1 if cluster == \"1\" else c2\n",
    "        table.add_row(str(age),\n",
    "                      str(f\"{last_c1:.2f}\"),\n",
    "                      str(f\"{last_c2:.2f}\"),\n",
    "                      str(f\"{c1_distance:.2f}\"),\n",
    "                      str(f\"{c2_distance:.2f}\"),\n",
    "                      str(cluster),\n",
    "                      str(f\"{new_cluster:.2f}\")\n",
    "                      )\n",
    "\n",
    "    last_c1 = c1\n",
    "    last_c2 = c2\n",
    "    console = Console()\n",
    "    console.print(table)"
   ]
  }
 ],
 "metadata": {
  "jupytext": {
   "cell_metadata_filter": "-all",
   "main_language": "python",
   "notebook_metadata_filter": "-all"
  }
 },
 "nbformat": 4,
 "nbformat_minor": 5
}
